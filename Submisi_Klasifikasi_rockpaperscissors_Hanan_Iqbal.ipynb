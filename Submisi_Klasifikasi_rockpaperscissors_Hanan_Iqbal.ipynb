{
 "cells": [
  {
   "cell_type": "markdown",
   "metadata": {
    "id": "LrTkVt4EsOxP"
   },
   "source": [
    "Nama: Hanan Iqbal Alrahma"
   ]
  },
  {
   "cell_type": "code",
   "execution_count": null,
   "metadata": {
    "id": "o5k0SdXWZ6xY"
   },
   "outputs": [],
   "source": [
    "import tensorflow as tf\n",
    "import time\n",
    "import matplotlib.pyplot as plt\n",
    "import numpy as np\n",
    "import matplotlib.pyplot as plt\n",
    "import matplotlib.image as mpimg\n",
    "import zipfile,os\n",
    "# from google.colab import files\n",
    "from tensorflow.keras.preprocessing import image\n",
    "from tensorflow.keras.preprocessing.image import ImageDataGenerator\n",
    "from tensorflow.keras.callbacks import EarlyStopping\n"
   ]
  },
  {
   "cell_type": "markdown",
   "metadata": {
    "id": "yleEG0z4mbsl"
   },
   "source": [
    "Download dataset"
   ]
  },
  {
   "cell_type": "code",
   "execution_count": null,
   "metadata": {
    "colab": {
     "base_uri": "https://localhost:8080/"
    },
    "id": "-3pj8DmRmRoF",
    "outputId": "ad69c4e1-8259-48d6-e3df-7c3c87b7ee16"
   },
   "outputs": [],
   "source": [
    "!wget --no-check-certificate \\\n",
    "  https://github.com/dicodingacademy/assets/releases/download/release/rockpaperscissors.zip \\\n",
    "  -O /tmp/rockpaperscissors.zip"
   ]
  },
  {
   "cell_type": "markdown",
   "metadata": {
    "id": "A2iDTvm-mesr"
   },
   "source": [
    "Ekstraksi file zip"
   ]
  },
  {
   "cell_type": "code",
   "execution_count": null,
   "metadata": {
    "id": "DKI1xUoYmimv"
   },
   "outputs": [],
   "source": [
    "local_zip = '/tmp/rockpaperscissors.zip'\n",
    "zip_ref = zipfile.ZipFile(local_zip, 'r')\n",
    "zip_ref.extractall('/tmp')\n",
    "zip_ref.close()"
   ]
  },
  {
   "cell_type": "markdown",
   "metadata": {
    "id": "tFX7Uh_9kVUV"
   },
   "source": [
    "Cek isi folder"
   ]
  },
  {
   "cell_type": "code",
   "execution_count": null,
   "metadata": {
    "colab": {
     "base_uri": "https://localhost:8080/"
    },
    "id": "0vT3J0I3i4Jx",
    "outputId": "8c86ffa9-9ed6-4116-bc9c-ef88dd84fe9d"
   },
   "outputs": [],
   "source": [
    "base_dir = '/tmp/rockpaperscissors/rps-cv-images'\n",
    "os.listdir(base_dir)"
   ]
  },
  {
   "cell_type": "markdown",
   "metadata": {
    "id": "pTT95OJUkZDP"
   },
   "source": [
    "Prepocessing data menggunakan ImageDataGenerator"
   ]
  },
  {
   "cell_type": "code",
   "execution_count": null,
   "metadata": {
    "id": "GrWWQv9Wjttf"
   },
   "outputs": [],
   "source": [
    "train_datagen = ImageDataGenerator(\n",
    "                    rescale=1./255,\n",
    "                    rotation_range=20,\n",
    "                    horizontal_flip=True,\n",
    "                    shear_range = 0.2,\n",
    "                    validation_split = 0.4,\n",
    "                    fill_mode = 'nearest')\n",
    "\n",
    "test_datagen = ImageDataGenerator(\n",
    "                    rescale=1./255)"
   ]
  },
  {
   "cell_type": "markdown",
   "metadata": {
    "id": "E2Tpdgvqm4xF"
   },
   "source": [
    "Membagi dataset menjadi data training dan data testing"
   ]
  },
  {
   "cell_type": "code",
   "execution_count": null,
   "metadata": {
    "colab": {
     "base_uri": "https://localhost:8080/"
    },
    "id": "UHz5CAY5j5Gx",
    "outputId": "2f332a61-ca54-4eb0-dee3-35701b8f2a7c"
   },
   "outputs": [],
   "source": [
    "train_generator = train_datagen.flow_from_directory(\n",
    "        base_dir,\n",
    "        target_size=(150, 150),\n",
    "        batch_size=40,\n",
    "        class_mode='categorical',\n",
    "        subset='training'\n",
    "        )\n",
    "\n",
    "validation_generator = train_datagen.flow_from_directory(\n",
    "        base_dir,\n",
    "        target_size=(150, 150),\n",
    "        batch_size=40,\n",
    "        class_mode='categorical',\n",
    "        subset='validation'\n",
    "        )"
   ]
  },
  {
   "cell_type": "markdown",
   "metadata": {
    "id": "YRHjA66-bPUu"
   },
   "source": [
    "Membangun model"
   ]
  },
  {
   "cell_type": "code",
   "execution_count": null,
   "metadata": {
    "colab": {
     "base_uri": "https://localhost:8080/"
    },
    "id": "13rIchUMm96u",
    "outputId": "7cba9972-d249-416e-f774-3f967eb7aaf1"
   },
   "outputs": [],
   "source": [
    "model = tf.keras.models.Sequential([\n",
    "    tf.keras.layers.Conv2D(64, (3,3), activation='relu', input_shape=(150, 150, 3)),\n",
    "    tf.keras.layers.MaxPooling2D(2, 2),\n",
    "    tf.keras.layers.Conv2D(32, (3,3), activation='relu'),\n",
    "    tf.keras.layers.MaxPooling2D(2, 2),\n",
    "    tf.keras.layers.Dropout(0.4),\n",
    "    tf.keras.layers.Conv2D(64, (3,3), activation='relu'),\n",
    "    tf.keras.layers.MaxPooling2D(2,2),\n",
    "    tf.keras.layers.Dropout(0.4),\n",
    "    tf.keras.layers.Flatten(),\n",
    "    tf.keras.layers.Dense(512, activation='relu'),\n",
    "    tf.keras.layers.Dense(256, activation='relu'),\n",
    "    tf.keras.layers.Dense(3, activation='softmax')\n",
    "])\n",
    "\n",
    "model.summary()"
   ]
  },
  {
   "cell_type": "markdown",
   "metadata": {
    "id": "o-oRTI_6ormr"
   },
   "source": [
    "Compile model"
   ]
  },
  {
   "cell_type": "code",
   "execution_count": null,
   "metadata": {
    "id": "ZOufnVXIoYHt"
   },
   "outputs": [],
   "source": [
    "model.compile(loss='binary_crossentropy',\n",
    "              optimizer=tf.optimizers.Adam(),\n",
    "              metrics=['accuracy'])"
   ]
  },
  {
   "cell_type": "markdown",
   "metadata": {
    "id": "V6rOz2Muoy8T"
   },
   "source": [
    "Training model"
   ]
  },
  {
   "cell_type": "code",
   "execution_count": null,
   "metadata": {
    "colab": {
     "base_uri": "https://localhost:8080/"
    },
    "id": "j3c1SyW8e-bG",
    "outputId": "e0f17274-55bb-4db7-e382-381988fcc1b8"
   },
   "outputs": [],
   "source": [
    "early_stopping = EarlyStopping(monitor='val_accuracy',\n",
    "                               patience=3,\n",
    "                               verbose=1,\n",
    "                               min_delta=0.01,\n",
    "                               restore_best_weights=True)\n",
    "\n",
    "start_time = time.time()\n",
    "\n",
    "history = model.fit(\n",
    "    train_generator,\n",
    "    steps_per_epoch=25,\n",
    "    epochs=20,\n",
    "    validation_data=validation_generator,\n",
    "    validation_steps=5,\n",
    "    verbose=2,\n",
    "    callbacks=[early_stopping]  # Menambahkan EarlyStopping callback ke dalam list callbacks\n",
    ")\n",
    "\n",
    "end_time = time.time()\n",
    "training_time = end_time - start_time\n",
    "training_time_minute = training_time / 60\n",
    "print(\"Waktu training: {:.2f} detik\".format(training_time))\n",
    "print(\"Waktu training (menit): {:.2f} menit\".format(training_time_minute))\n"
   ]
  },
  {
   "cell_type": "markdown",
   "metadata": {
    "id": "8a6V9EP2bQIA"
   },
   "source": [
    "Visualisasi grafik akurasi"
   ]
  },
  {
   "cell_type": "code",
   "execution_count": null,
   "metadata": {
    "colab": {
     "base_uri": "https://localhost:8080/",
     "height": 487
    },
    "id": "Ujewj3ehbSro",
    "outputId": "eb3426e4-924d-47eb-b993-1f82bed21615"
   },
   "outputs": [],
   "source": [
    "accuracy = history.history['accuracy']\n",
    "validation = history.history['val_accuracy']\n",
    "loss = history.history['loss']\n",
    "validation_loss = history.history['val_loss']\n",
    "\n",
    "epochs = range(1, len(accuracy) + 1)\n",
    "\n",
    "# Plot grafik akurasi\n",
    "plt.figure(figsize=(14, 5))\n",
    "plt.subplot(1, 2, 1)\n",
    "plt.plot(epochs, accuracy, 'b', label='Training Accuracy')\n",
    "plt.plot(epochs, validation, 'r', label='Validation Accuracy')\n",
    "plt.title('Training and Validation Accuracy')\n",
    "plt.xlabel('Epochs')\n",
    "plt.ylabel('Accuracy')\n",
    "\n",
    "\n",
    "#plot grafik loss\n",
    "plt.subplot(1, 2, 2)\n",
    "plt.plot(epochs, loss, label='Training loss')\n",
    "plt.plot(epochs, validation_loss, label='Training validation loss')\n",
    "plt.title('Training and Validation Loss')\n",
    "plt.xlabel('Epochs')\n",
    "plt.ylabel('Loss')\n",
    "plt.legend()\n",
    "plt.show()"
   ]
  },
  {
   "cell_type": "markdown",
   "metadata": {
    "id": "zD5FVkiUvylx"
   },
   "source": [
    "Tes model"
   ]
  },
  {
   "cell_type": "code",
   "execution_count": null,
   "metadata": {
    "colab": {
     "base_uri": "https://localhost:8080/",
     "height": 542
    },
    "id": "l2JquijBvxyF",
    "outputId": "31892492-7354-405e-c743-9d4260a09f1d"
   },
   "outputs": [],
   "source": [
    "uploaded = files.upload()\n",
    "\n",
    "for fn in uploaded.keys():\n",
    "\n",
    "  # predicting images\n",
    "  path = fn\n",
    "  img = image.load_img(path, target_size=(150,150))\n",
    "\n",
    "  imgplot = plt.imshow(img)\n",
    "  x = image.img_to_array(img)\n",
    "  x = np.expand_dims(x, axis=0)\n",
    "  images = np.vstack([x])\n",
    "  classes = model.predict(images, batch_size=10)\n",
    "\n",
    "  print(fn)\n",
    "  if classes[0, 0]==1:\n",
    "   print('paper')\n",
    "  elif classes[0, 1]==1:\n",
    "   print('rock')\n",
    "  elif classes[0, 2]==1:\n",
    "   print('scissor')\n",
    "  else:\n",
    "    print('Unknown image')"
   ]
  }
 ],
 "metadata": {
  "accelerator": "GPU",
  "colab": {
   "gpuType": "T4",
   "provenance": []
  },
  "kernelspec": {
   "display_name": "Python 3",
   "name": "python3"
  },
  "language_info": {
   "name": "python",
   "version": "3.12.4"
  }
 },
 "nbformat": 4,
 "nbformat_minor": 0
}
